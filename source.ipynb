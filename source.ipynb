{
 "cells": [
  {
   "attachments": {},
   "cell_type": "markdown",
   "metadata": {},
   "source": [
    "# {Project Title}📝\n",
    "\n",
    "![Banner](./assets/banner.jpeg)"
   ]
  },
  {
   "attachments": {},
   "cell_type": "markdown",
   "metadata": {},
   "source": [
    "## Topic\n",
    "*What problem are you (or your stakeholder) trying to address?*\n",
    "📝 <!-- Answer Below -->\n",
    "A topic that I would like to explore more on is how constant use of devices is affecting our dopamine and attention span.\n",
    "\n"
   ]
  },
  {
   "cell_type": "markdown",
   "metadata": {},
   "source": []
  },
  {
   "cell_type": "code",
   "execution_count": 3,
   "metadata": {},
   "outputs": [],
   "source": [
    "## Project Question\n",
    "#*What specific question are you seeking to answer with this project?*\n",
    "#*This is not the same as the questions you ask to limit the scope of the project.*\n",
    "#📝 <!-- Answer Below -->\n",
    "#Q1. I want to know how our subconscious is easily influenced by the need for instant rewards and how to prevent that\n",
    "#Q2. I would also want to know how constant scrolling affects us \n",
    "#Q3. And would like to know what age range is affected from scrolling, example is it, 20-25 yrs of age, etc \n"
   ]
  },
  {
   "attachments": {},
   "cell_type": "markdown",
   "metadata": {},
   "source": [
    "## What would an answer look like?\n",
    "*What is your hypothesized answer to your question?*\n",
    "📝 <!-- Answer Below -->\n",
    "Something like this, \"using phone device all the time can ruin your dopamin\""
   ]
  },
  {
   "attachments": {},
   "cell_type": "markdown",
   "metadata": {},
   "source": [
    "## Data Sources\n",
    "*What 3 data sources have you identified for this project?*\n",
    "*How are you going to relate these datasets?*\n",
    "📝 <!-- Answer Below -->\n",
    "These are the 3 data sources: \n",
    "1. https://www.kaggle.com/datasets/shabdamocharla/social-media-mental-health\n",
    "2. https://www.kaggle.com/datasets/muhammadalirazazaidi/screen-time-data-productivity-and-attention-span\n",
    "3. https://www.kaggle.com/datasets/zhangchaoxiong/dopamine\n",
    "I will look at the common name used in all these 3 data sets to identify the problem to find the solution\n"
   ]
  },
  {
   "attachments": {},
   "cell_type": "markdown",
   "metadata": {},
   "source": [
    "## Approach and Analysis\n",
    "*What is your approach to answering your project question?*\n",
    "*How will you use the identified data to answer your project question?*\n",
    "📝 <!-- Start Discussing the project here; you can add as many code cells as you need -->"
   ]
  },
  {
   "cell_type": "code",
   "execution_count": 1,
   "metadata": {},
   "outputs": [],
   "source": [
    "# Start your code here\n",
    "#I will use Kaggle to find data sources to answer my questions by finding patterns across these data sources to answer my project questions"
   ]
  },
  {
   "attachments": {},
   "cell_type": "markdown",
   "metadata": {},
   "source": [
    "## Resources and References\n",
    "*What resources and references have you used for this project?*\n",
    "📝 <!-- Answer Below -->"
   ]
  },
  {
   "cell_type": "code",
   "execution_count": 2,
   "metadata": {},
   "outputs": [],
   "source": [
    "# ⚠️ Make sure you run this cell at the end of your notebook before every submission!\n",
    "#1. https://www.kaggle.com/datasets/shabdamocharla/social-media-mental-health\n",
    "#2. https://www.kaggle.com/datasets/muhammadalirazazaidi/screen-time-data-productivity-and-attention-span\n",
    "#3. https://www.kaggle.com/datasets/zhangchaoxiong/dopamine"
   ]
  }
 ],
 "metadata": {
  "kernelspec": {
   "display_name": "Python 3",
   "language": "python",
   "name": "python3"
  },
  "language_info": {
   "codemirror_mode": {
    "name": "ipython",
    "version": 3
   },
   "file_extension": ".py",
   "mimetype": "text/x-python",
   "name": "python",
   "nbconvert_exporter": "python",
   "pygments_lexer": "ipython3",
   "version": "3.11.9"
  },
  "orig_nbformat": 4
 },
 "nbformat": 4,
 "nbformat_minor": 2
}
